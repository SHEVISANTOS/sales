{
 "cells": [
  {
   "cell_type": "markdown",
   "id": "5a2fc032",
   "metadata": {},
   "source": [
    "Download and Load DataSets"
   ]
  },
  {
   "cell_type": "code",
   "execution_count": null,
   "id": "bf2256e4",
   "metadata": {},
   "outputs": [],
   "source": [
    "import kagglehub\n",
    "import pandas as pd\n",
    "import os\n",
    "\n",
    "# Download dataset\n",
    "path = kagglehub.dataset_download(\"sonawanelalitsunil/warehouse-and-retail-sales\")\n",
    "print(\"Dataset downloaded to:\", path)\n",
    "\n",
    "# Check available files\n",
    "for root, dirs, files in os.walk(path):\n",
    "    for file in files:\n",
    "        print(file)\n",
    "\n",
    "# Load main CSV (replace 'sales.csv' with actual filename)\n",
    "data = pd.read_csv(os.path.join(path, \"sales.csv\"))\n",
    "print(data.head())\n"
   ]
  },
  {
   "cell_type": "markdown",
   "id": "2ad83f4f",
   "metadata": {},
   "source": [
    "Exporatoly Data Analysis"
   ]
  },
  {
   "cell_type": "code",
   "execution_count": null,
   "id": "9caf6c55",
   "metadata": {},
   "outputs": [],
   "source": [
    "import matplotlib.pyplot as plt\n",
    "import seaborn as sns\n",
    "\n",
    "# Check basic info\n",
    "print(data.info())\n",
    "print(data.describe())\n",
    "\n",
    "# Plot sales trend over time\n",
    "sns.lineplot(x='Date', y='Sales', data=data)\n",
    "plt.title(\"Sales Trend Over Time\")\n",
    "plt.show()\n",
    "\n",
    "# Check correlations\n",
    "sns.heatmap(data.corr(), annot=True, cmap='coolwarm')\n",
    "plt.show()\n"
   ]
  },
  {
   "cell_type": "markdown",
   "id": "bef1d505",
   "metadata": {},
   "source": [
    "Data Preprocessing"
   ]
  },
  {
   "cell_type": "code",
   "execution_count": null,
   "id": "c264c68d",
   "metadata": {},
   "outputs": [],
   "source": [
    "# Handle missing values\n",
    "data = data.fillna(0)\n",
    "\n",
    "# Convert date column\n",
    "data['Date'] = pd.to_datetime(data['Date'])\n",
    "\n",
    "# Feature engineering: month, day, weekday\n",
    "data['Month'] = data['Date'].dt.month\n",
    "data['Day'] = data['Date'].dt.day\n",
    "data['Weekday'] = data['Date'].dt.weekday\n",
    "\n",
    "# Encode categorical variables\n",
    "data = pd.get_dummies(data, columns=['Product_Category', 'Store_Location'])\n",
    "\n",
    "# Create lag feature (previous day sales)\n",
    "data['Sales_lag_1'] = data['Sales'].shift(1)\n",
    "data = data.dropna()\n"
   ]
  },
  {
   "cell_type": "markdown",
   "id": "ab22266a",
   "metadata": {},
   "source": [
    "Train/Test split"
   ]
  },
  {
   "cell_type": "code",
   "execution_count": null,
   "id": "76e3c7c2",
   "metadata": {},
   "outputs": [],
   "source": [
    "train = data[data['Date'] < '2023-01-01']\n",
    "test = data[data['Date'] >= '2023-01-01']\n",
    "\n",
    "X_train = train.drop(['Sales','Date'], axis=1)\n",
    "y_train = train['Sales']\n",
    "X_test = test.drop(['Sales','Date'], axis=1)\n",
    "y_test = test['Sales']\n"
   ]
  },
  {
   "cell_type": "markdown",
   "id": "5b5f3efe",
   "metadata": {},
   "source": [
    "Build ML models"
   ]
  },
  {
   "cell_type": "code",
   "execution_count": null,
   "id": "72c08e38",
   "metadata": {},
   "outputs": [],
   "source": [
    "#Linear Regression\n",
    "from sklearn.linear_model import LinearRegression\n",
    "from sklearn.metrics import mean_squared_error, r2_score\n",
    "\n",
    "lr = LinearRegression()\n",
    "lr.fit(X_train, y_train)\n",
    "y_pred_lr = lr.predict(X_test)\n",
    "\n",
    "print(\"Linear Regression R²:\", r2_score(y_test, y_pred_lr))\n",
    "\n"
   ]
  },
  {
   "cell_type": "code",
   "execution_count": null,
   "id": "19af572f",
   "metadata": {},
   "outputs": [],
   "source": [
    "#Random Forest\n",
    "from sklearn.ensemble import RandomForestRegressor\n",
    "\n",
    "rf = RandomForestRegressor(n_estimators=100, random_state=42)\n",
    "rf.fit(X_train, y_train)\n",
    "y_pred_rf = rf.predict(X_test)\n",
    "\n",
    "print(\"Random Forest R²:\", r2_score(y_test, y_pred_rf))\n",
    "    "
   ]
  },
  {
   "cell_type": "code",
   "execution_count": null,
   "id": "f9f195d2",
   "metadata": {},
   "outputs": [],
   "source": [
    "#LSTM\n",
    "from tensorflow.keras.models import Sequential\n",
    "from tensorflow.keras.layers import LSTM, Dense\n",
    "import numpy as np\n",
    "\n",
    "# Reshape for LSTM: [samples, timesteps, features]\n",
    "X_train_lstm = np.array(X_train).reshape((X_train.shape[0], 1, X_train.shape[1]))\n",
    "X_test_lstm = np.array(X_test).reshape((X_test.shape[0], 1, X_test.shape[1]))\n",
    "\n",
    "model = Sequential()\n",
    "model.add(LSTM(50, activation='relu', input_shape=(X_train_lstm.shape[1], X_train_lstm.shape[2])))\n",
    "model.add(Dense(1))\n",
    "model.compile(optimizer='adam', loss='mse')\n",
    "model.fit(X_train_lstm, y_train, epochs=50, batch_size=32, verbose=1)\n",
    "\n",
    "y_pred_lstm = model.predict(X_test_lstm)\n",
    "  "
   ]
  },
  {
   "cell_type": "markdown",
   "id": "fea54d7b",
   "metadata": {},
   "source": [
    "Evaluate Model"
   ]
  },
  {
   "cell_type": "code",
   "execution_count": null,
   "id": "ffdacbbb",
   "metadata": {},
   "outputs": [],
   "source": [
    "from sklearn.metrics import mean_absolute_error\n",
    "\n",
    "def evaluate(y_true, y_pred):\n",
    "    mae = mean_absolute_error(y_true, y_pred)\n",
    "    rmse = mean_squared_error(y_true, y_pred, squared=False)\n",
    "    r2 = r2_score(y_true, y_pred)\n",
    "    return mae, rmse, r2\n",
    "\n",
    "print(\"Linear Regression:\", evaluate(y_test, y_pred_lr))\n",
    "print(\"Random Forest:\", evaluate(y_test, y_pred_rf))\n",
    "print(\"LSTM:\", evaluate(y_test, y_pred_lstm))\n",
    " "
   ]
  }
 ],
 "metadata": {
  "kernelspec": {
   "display_name": "sales_env",
   "language": "python",
   "name": "python3"
  },
  "language_info": {
   "name": "python",
   "version": "3.13.5"
  }
 },
 "nbformat": 4,
 "nbformat_minor": 5
}
